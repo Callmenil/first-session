{
 "cells": [
  {
   "cell_type": "code",
   "execution_count": 1,
   "metadata": {},
   "outputs": [],
   "source": [
    "# Terminal: ctrl + shift + `\n",
    "# ZOOM command + shift + (+)\n",
    "# pip3 install virtualenv (one time globally)\n",
    "# make virtual environment: virtualenv venv\n",
    "# activate virtual environment: mac :: source venv/bin/activate\n",
    "# execute a script: ctrl + c"
   ]
  },
  {
   "cell_type": "code",
   "execution_count": 2,
   "metadata": {},
   "outputs": [
    {
     "name": "stdout",
     "output_type": "stream",
     "text": [
      "hello \"\"\"\"\"\"\" 'world\n",
      "hello\" world\n",
      "mammad ab khord\n",
      "va nabud ke bebine\n",
      "mammad ab khord\n",
      "va nabud ke bebine\n",
      "remov\n",
      "mammad\\ali\n"
     ]
    }
   ],
   "source": [
    "a = 'hello \"\"\"\"\"\"\" \\'world'\n",
    "print(a)\n",
    "\n",
    "a = \"hello\\\" world\"\n",
    "print(a)\n",
    "\n",
    "a = \"\"\"mammad ab khord\n",
    "va nabud ke bebine\"\"\"\n",
    "print(a)\n",
    "\n",
    "a = 'mammad ab khord\\nva nabud ke bebine'\n",
    "print(a)\n",
    "\n",
    "# \\n: Enter\n",
    "# \\t: tab OR 4 space\n",
    "# \\b: remove before character (not important)\n",
    "\n",
    "a = 'remove\\b'\n",
    "print(a)\n",
    "\n",
    "a = 'mammad\\\\ali'\n",
    "print(a)"
   ]
  },
  {
   "cell_type": "code",
   "execution_count": 1,
   "metadata": {},
   "outputs": [
    {
     "name": "stdout",
     "output_type": "stream",
     "text": [
      "['N', 'I', 'L', 'O', 'O', 'F', 'A', 'R']\n",
      "('N', 'I', 'L', 'O', 'O', 'F', 'A', 'R')\n",
      "['N', 'I', 'L', 'O', '', 'O', 'F', 'A', 'R']\n",
      "['NILOOFAR']\n",
      "['NIL', '', 'OOFAR']\n"
     ]
    }
   ],
   "source": [
    "# split a string letter by letter\n",
    "a = 'NILOOFAR'\n",
    "print(list(a))\n",
    "print(tuple(a))\n",
    "\n",
    "# split by a character\n",
    "a = 'N,I,L,O,O,F,A,R'\n",
    "print(a.split(','))\n",
    "\n",
    "# note that\n",
    "a = 'NILOOFAR'\n",
    "print(a.split(','))\n",
    "\n",
    "a = 'NIL,,OOFAR'\n",
    "print(a.split(','))\n"
   ]
  },
  {
   "cell_type": "code",
   "execution_count": 4,
   "metadata": {},
   "outputs": [
    {
     "name": "stdout",
     "output_type": "stream",
     "text": [
      "N I L O O F A R\n",
      "NILOOFAR\n"
     ]
    }
   ],
   "source": [
    "# join a list of ((strings))\n",
    "a = ['N', 'I', 'L', 'O', 'O', 'F', 'A', 'R']\n",
    "print(' '.join(a))\n",
    "print(''.join(a))"
   ]
  },
  {
   "cell_type": "code",
   "execution_count": 25,
   "metadata": {},
   "outputs": [
    {
     "name": "stdout",
     "output_type": "stream",
     "text": [
      "\n",
      "\n",
      "duck\n",
      "\n",
      "\t\n"
     ]
    },
    {
     "data": {
      "text/plain": [
       "'duck'"
      ]
     },
     "execution_count": 25,
     "metadata": {},
     "output_type": "execute_result"
    }
   ],
   "source": [
    "# cleaning string\n",
    "\n",
    "# clean \\n, \\t , ... from end of string\n",
    "a = '\\n\\nduck\\n\\n\\t'\n",
    "print(a)\n",
    "a.rstrip() # right\n",
    "a.lstrip() # left\n",
    "a.strip() # left and right"
   ]
  },
  {
   "cell_type": "code",
   "execution_count": 7,
   "metadata": {},
   "outputs": [
    {
     "name": "stdout",
     "output_type": "stream",
     "text": [
      "<class 'map'>\n",
      "<class 'map'>\n",
      "<class 'map'>\n",
      "<class 'map'>\n"
     ]
    },
    {
     "data": {
      "text/plain": [
       "[[0, 1, 2, 3, 4, 5],\n",
       " [6, 7, 8, 9, 1, 2],\n",
       " [3, 1, 3, 2, 1, 4],\n",
       " [5, 4, 3, 2, 1, 5]]"
      ]
     },
     "execution_count": 7,
     "metadata": {},
     "output_type": "execute_result"
    }
   ],
   "source": [
    "# READING A FILE: open(<directory>, <mode>)\n",
    "# NOTE: <directory>\n",
    "# NOTE: different modes:\n",
    "#       'w': write (this mode deletes all content of this file if it exists)\n",
    "#       'r': read\n",
    "\n",
    "\n",
    "# read in two ways\n",
    "\n",
    "# 1: open and close\n",
    "\n",
    "f = open('1.csv', 'r')\n",
    "# work with f\n",
    "f.close()\n",
    "\n",
    "# 2: use with block (use this)\n",
    "all_lines = []\n",
    "with open('1.csv', 'r') as f:\n",
    "    for line in f.readlines(): # reads all lines of f\n",
    "        # 0,1,2,3,4,5\\n6,7,8,9,1,2\\n3,1,3,2,1,4\\n5,4,3,2,1,5\n",
    "        # line = '0,1,2,3,4,5\\n'\n",
    "        # line = '6,7,8,9,1,2\\n'\n",
    "        # line = '3,1,3,2,1,4\\n'\n",
    "        # line = '5,4,3,2,1,5'\n",
    "\n",
    "        line = line.rstrip().split(',')\n",
    "        for i in range(len(line)):\n",
    "            line[i] = int(line[i])\n",
    "\n",
    "        all_lines.append(line)\n",
    "\n",
    "all_lines = []\n",
    "with open('1.csv', 'r') as f:\n",
    "    for line in f.readlines():\n",
    "        line = line.rstrip().split(',')\n",
    "        # map function applies a function (without parenthises) to all members of an iteratable (like: list OR tuple)\n",
    "        print(type(map(int, line))) # it is in map class\n",
    "        line = list(map(int, line))\n",
    "        all_lines.append(line)\n",
    "all_lines"
   ]
  },
  {
   "cell_type": "code",
   "execution_count": 26,
   "metadata": {},
   "outputs": [
    {
     "ename": "NameError",
     "evalue": "name 'all_lines' is not defined",
     "output_type": "error",
     "traceback": [
      "\u001b[0;31m---------------------------------------------------------------------------\u001b[0m",
      "\u001b[0;31mNameError\u001b[0m                                 Traceback (most recent call last)",
      "Cell \u001b[0;32mIn[26], line 2\u001b[0m\n\u001b[1;32m      1\u001b[0m \u001b[39mwith\u001b[39;00m \u001b[39mopen\u001b[39m(\u001b[39m'\u001b[39m\u001b[39m1.csv\u001b[39m\u001b[39m'\u001b[39m, \u001b[39m'\u001b[39m\u001b[39mw\u001b[39m\u001b[39m'\u001b[39m) \u001b[39mas\u001b[39;00m f:\n\u001b[0;32m----> 2\u001b[0m     \u001b[39mfor\u001b[39;00m line \u001b[39min\u001b[39;00m all_lines:\n\u001b[1;32m      3\u001b[0m         \u001b[39m# [1, 2, 3, 4] -> '1,2,3,4' (goal)\u001b[39;00m\n\u001b[1;32m      4\u001b[0m         \u001b[39m# str([1, 2, 3, 4]) == '[1, 2, 3, 4]' (kollan injuri fekr nakon)\u001b[39;00m\n\u001b[1;32m      5\u001b[0m         line \u001b[39m=\u001b[39m \u001b[39m\"\u001b[39m\u001b[39m,\u001b[39m\u001b[39m\"\u001b[39m\u001b[39m.\u001b[39mjoin(\u001b[39mmap\u001b[39m(\u001b[39mstr\u001b[39m, line)) \u001b[39m# join is for a list or tuple containing string\u001b[39;00m\n\u001b[1;32m      6\u001b[0m         f\u001b[39m.\u001b[39mwrite(line \u001b[39m+\u001b[39m \u001b[39m'\u001b[39m\u001b[39m\\n\u001b[39;00m\u001b[39m'\u001b[39m)\n",
      "\u001b[0;31mNameError\u001b[0m: name 'all_lines' is not defined"
     ]
    }
   ],
   "source": [
    "with open('1.csv', 'w') as f:\n",
    "    for line in all_lines:\n",
    "        # [1, 2, 3, 4] -> '1,2,3,4' (goal)\n",
    "        # str([1, 2, 3, 4]) == '[1, 2, 3, 4]' (kollan injuri fekr nakon)\n",
    "        line = \",\".join(map(str, line)) # join is for a list or tuple containing string\n",
    "        f.write(line + '\\n')"
   ]
  },
  {
   "cell_type": "code",
   "execution_count": 8,
   "metadata": {},
   "outputs": [
    {
     "data": {
      "text/plain": [
       "'aaaaaaaaaa'"
      ]
     },
     "execution_count": 8,
     "metadata": {},
     "output_type": "execute_result"
    }
   ],
   "source": [
    "'a' * 10"
   ]
  },
  {
   "cell_type": "code",
   "execution_count": 32,
   "metadata": {},
   "outputs": [
    {
     "data": {
      "text/plain": [
       "'abc'"
      ]
     },
     "execution_count": 32,
     "metadata": {},
     "output_type": "execute_result"
    }
   ],
   "source": [
    "'a' + 'b' + 'c'"
   ]
  },
  {
   "cell_type": "code",
   "execution_count": null,
   "metadata": {},
   "outputs": [],
   "source": []
  }
 ],
 "metadata": {
  "kernelspec": {
   "display_name": "venv",
   "language": "python",
   "name": "python3"
  },
  "language_info": {
   "codemirror_mode": {
    "name": "ipython",
    "version": 3
   },
   "file_extension": ".py",
   "mimetype": "text/x-python",
   "name": "python",
   "nbconvert_exporter": "python",
   "pygments_lexer": "ipython3",
   "version": "3.10.11"
  },
  "orig_nbformat": 4
 },
 "nbformat": 4,
 "nbformat_minor": 2
}
